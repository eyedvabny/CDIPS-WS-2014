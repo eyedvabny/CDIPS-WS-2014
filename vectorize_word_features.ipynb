{
 "metadata": {
  "name": "",
  "signature": "sha256:8082e48bcb562b49d41b9279a41edf7b9953b606bd5499b7769d837bd772b53e"
 },
 "nbformat": 3,
 "nbformat_minor": 0,
 "worksheets": [
  {
   "cells": [
    {
     "cell_type": "code",
     "collapsed": false,
     "input": [
      "import numpy as np\n",
      "import scipy.sparse as sp\n",
      "import pandas as pd\n",
      "from sklearn.feature_extraction.text import CountVectorizer"
     ],
     "language": "python",
     "metadata": {},
     "outputs": [],
     "prompt_number": 1
    },
    {
     "cell_type": "heading",
     "level": 3,
     "metadata": {},
     "source": [
      "Build a corpus from the unique clean words"
     ]
    },
    {
     "cell_type": "code",
     "collapsed": false,
     "input": [
      "clean_train_list = pd.read_pickle(\"data/train_clean_words.pkl\")\n",
      "len(clean_train_list)"
     ],
     "language": "python",
     "metadata": {},
     "outputs": [
      {
       "metadata": {},
       "output_type": "pyout",
       "prompt_number": 2,
       "text": [
        "497320"
       ]
      }
     ],
     "prompt_number": 2
    },
    {
     "cell_type": "code",
     "collapsed": false,
     "input": [
      "clean_test_list = pd.read_pickle(\"data/test_clean_words.pkl\")\n",
      "len(clean_test_list)"
     ],
     "language": "python",
     "metadata": {},
     "outputs": [
      {
       "metadata": {},
       "output_type": "pyout",
       "prompt_number": 3,
       "text": [
        "282547"
       ]
      }
     ],
     "prompt_number": 3
    },
    {
     "cell_type": "code",
     "collapsed": false,
     "input": [
      "word_list = clean_train_list.append(clean_test_list).drop_duplicates().order()\n",
      "len(word_list)"
     ],
     "language": "python",
     "metadata": {},
     "outputs": [
      {
       "metadata": {},
       "output_type": "pyout",
       "prompt_number": 115,
       "text": [
        "585070"
       ]
      }
     ],
     "prompt_number": 115
    },
    {
     "cell_type": "code",
     "collapsed": false,
     "input": [
      "word_list.to_pickle(\"data/combined_clean_words.pkl\")"
     ],
     "language": "python",
     "metadata": {},
     "outputs": [],
     "prompt_number": 122
    },
    {
     "cell_type": "markdown",
     "metadata": {},
     "source": [
      "`word_list` is a combination of unique words from both test and train so should be a sufficient corpus"
     ]
    },
    {
     "cell_type": "heading",
     "level": 3,
     "metadata": {},
     "source": [
      "Fit the CountVectorizer to the corpus"
     ]
    },
    {
     "cell_type": "markdown",
     "metadata": {},
     "source": [
      "I've already parsed the text into unique clean words, so we can pass that as the fitter's dictionary. We also write our own custom analyzer so we can pass in lists of words instead of a whole string."
     ]
    },
    {
     "cell_type": "code",
     "collapsed": false,
     "input": [
      "def do_nothing(word_list):\n",
      "    for word in word_list:\n",
      "        yield word\n",
      "\n",
      "vectorizer = CountVectorizer(analyzer=do_nothing,vocabulary=word_list)"
     ],
     "language": "python",
     "metadata": {},
     "outputs": [],
     "prompt_number": 117
    },
    {
     "cell_type": "code",
     "collapsed": false,
     "input": [
      "vect_features = vectorizer.get_feature_names()\n",
      "len(vect_features)"
     ],
     "language": "python",
     "metadata": {},
     "outputs": [
      {
       "metadata": {},
       "output_type": "pyout",
       "prompt_number": 118,
       "text": [
        "585070"
       ]
      }
     ],
     "prompt_number": 118
    },
    {
     "cell_type": "heading",
     "level": 3,
     "metadata": {},
     "source": [
      "Get the sparse matrix of the training ads"
     ]
    },
    {
     "cell_type": "code",
     "collapsed": false,
     "input": [
      "train_word_set = pd.read_pickle(\"data/train_clean_word_set.pkl\")"
     ],
     "language": "python",
     "metadata": {},
     "outputs": [],
     "prompt_number": 9
    },
    {
     "cell_type": "code",
     "collapsed": false,
     "input": [
      "train_desc_feat = vectorizer.transform(train_word_set)"
     ],
     "language": "python",
     "metadata": {},
     "outputs": [],
     "prompt_number": 120
    },
    {
     "cell_type": "code",
     "collapsed": false,
     "input": [
      "train_desc_feat"
     ],
     "language": "python",
     "metadata": {},
     "outputs": [
      {
       "metadata": {},
       "output_type": "pyout",
       "prompt_number": 121,
       "text": [
        "<3995803x585070 sparse matrix of type '<type 'numpy.int64'>'\n",
        "\twith 93500491 stored elements in Compressed Sparse Row format>"
       ]
      }
     ],
     "prompt_number": 121
    },
    {
     "cell_type": "code",
     "collapsed": false,
     "input": [
      "np.savez(\"data/train_feat_sparse.npz\",train_desc_feat.data,train_desc_feat.indices,train_desc_feat.indptr)"
     ],
     "language": "python",
     "metadata": {},
     "outputs": [],
     "prompt_number": 130
    },
    {
     "cell_type": "markdown",
     "metadata": {},
     "source": [
      "Load these with:\n",
      "```\n",
      "train_feat_files = np.load(\"data/train_feat_sparse.npz\")\n",
      "train_feat = sp.csr_matrix((train_feat_files['arr_1'], train_feat_files['arr_2'], train_feat_files['arr_3']), shape=(3995803, 585070))\n",
      "```\n",
      "https://stackoverflow.com/questions/8955448/save-load-scipy-sparse-csr-matrix-in-portable-data-format"
     ]
    },
    {
     "cell_type": "heading",
     "level": 3,
     "metadata": {},
     "source": [
      "Get the sparse matrix of testing ads"
     ]
    },
    {
     "cell_type": "code",
     "collapsed": false,
     "input": [
      "test_word_set = pd.read_pickle(\"data/test_clean_word_set.pkl\")"
     ],
     "language": "python",
     "metadata": {},
     "outputs": [],
     "prompt_number": 137
    },
    {
     "cell_type": "code",
     "collapsed": false,
     "input": [
      "test_desc_feat = vectorizer.transform(test_word_set)"
     ],
     "language": "python",
     "metadata": {},
     "outputs": [],
     "prompt_number": 138
    },
    {
     "cell_type": "code",
     "collapsed": false,
     "input": [
      "test_desc_feat"
     ],
     "language": "python",
     "metadata": {},
     "outputs": [
      {
       "metadata": {},
       "output_type": "pyout",
       "prompt_number": 139,
       "text": [
        "<1351242x585070 sparse matrix of type '<type 'numpy.int64'>'\n",
        "\twith 31291098 stored elements in Compressed Sparse Row format>"
       ]
      }
     ],
     "prompt_number": 139
    },
    {
     "cell_type": "code",
     "collapsed": false,
     "input": [
      "np.savez(\"data/test_feat_sparse.npz\",test_desc_feat.data,test_desc_feat.indices,test_desc_feat.indptr)"
     ],
     "language": "python",
     "metadata": {},
     "outputs": [],
     "prompt_number": 141
    },
    {
     "cell_type": "markdown",
     "metadata": {},
     "source": [
      "Load these with:\n",
      "```\n",
      "test_feat_files = np.load(\"data/test_feat_sparse.npz\")\n",
      "test_feat = sp.csr_matrix((test_feat_files['arr_1'], test_feat_files['arr_2'], test_feat_files['arr_3']), shape=(1351242, 585070))\n",
      "```"
     ]
    }
   ],
   "metadata": {}
  }
 ]
}