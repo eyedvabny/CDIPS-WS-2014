{
 "metadata": {
  "name": "",
  "signature": "sha256:d36d153762684202d5e1eaaee9011083642ded4bf5cc769455e3ca9c4f25b904"
 },
 "nbformat": 3,
 "nbformat_minor": 0,
 "worksheets": [
  {
   "cells": [
    {
     "cell_type": "code",
     "collapsed": false,
     "input": [
      "import numpy as np\n",
      "import pandas as pd\n",
      "import avito_modules as am"
     ],
     "language": "python",
     "metadata": {},
     "outputs": []
    },
    {
     "cell_type": "heading",
     "level": 2,
     "metadata": {},
     "source": [
      "TRAINING SET"
     ]
    },
    {
     "cell_type": "heading",
     "level": 3,
     "metadata": {},
     "source": [
      "File Reading"
     ]
    },
    {
     "cell_type": "code",
     "collapsed": false,
     "input": [
      "d_train = pd.read_pickle(\"data/avito_train_utf8.pkl\")"
     ],
     "language": "python",
     "metadata": {},
     "outputs": []
    },
    {
     "cell_type": "heading",
     "level": 3,
     "metadata": {},
     "source": [
      "Description Word Parsing + Cleaning"
     ]
    },
    {
     "cell_type": "markdown",
     "metadata": {},
     "source": [
      "Split descriptions into words and make one long Series"
     ]
    },
    {
     "cell_type": "code",
     "collapsed": false,
     "input": [
      "dirty_word_set = d_train.description.apply(am.getWords,args=(False,False))"
     ],
     "language": "python",
     "metadata": {},
     "outputs": []
    },
    {
     "cell_type": "code",
     "collapsed": false,
     "input": [
      "dirty_word_set.to_pickle(\"data/train_dirty_word_set.pkl\")"
     ],
     "language": "python",
     "metadata": {},
     "outputs": []
    },
    {
     "cell_type": "markdown",
     "metadata": {},
     "source": [
      "We need to get a list of unique words. For that all lists in the series should be joined and filtered."
     ]
    },
    {
     "cell_type": "code",
     "collapsed": false,
     "input": [
      "dirty_word_list = pd.Series([desc_word for desc_list in dirty_word_set for desc_word in desc_list]).drop_duplicates()"
     ],
     "language": "python",
     "metadata": {},
     "outputs": []
    },
    {
     "cell_type": "code",
     "collapsed": false,
     "input": [
      "dirty_word_list.to_pickle(\"data/train_dirty_words.pkl\")"
     ],
     "language": "python",
     "metadata": {},
     "outputs": []
    },
    {
     "cell_type": "markdown",
     "metadata": {},
     "source": [
      "Repeat the above but now cleaning and stemming the words"
     ]
    },
    {
     "cell_type": "code",
     "collapsed": false,
     "input": [
      "clean_word_set = d_train.description.apply(am.getWords,args=(True,True))"
     ],
     "language": "python",
     "metadata": {},
     "outputs": []
    },
    {
     "cell_type": "code",
     "collapsed": false,
     "input": [
      "clean_word_set.to_pickle(\"data/train_clean_word_set.pkl\")"
     ],
     "language": "python",
     "metadata": {},
     "outputs": []
    },
    {
     "cell_type": "code",
     "collapsed": false,
     "input": [
      "clean_word_list = pd.Series([desc_word for desc_list in clean_word_set for desc_word in desc_list]).drop_duplicates()"
     ],
     "language": "python",
     "metadata": {},
     "outputs": []
    },
    {
     "cell_type": "code",
     "collapsed": false,
     "input": [
      "clean_word_list.to_pickle(\"data/train_clean_words.pkl\")"
     ],
     "language": "python",
     "metadata": {},
     "outputs": []
    },
    {
     "cell_type": "heading",
     "level": 3,
     "metadata": {},
     "source": [
      "Title Word Parsing"
     ]
    },
    {
     "cell_type": "markdown",
     "metadata": {},
     "source": [
      "Repeat the same for titles above"
     ]
    },
    {
     "cell_type": "code",
     "collapsed": false,
     "input": [
      "dirty_title_set = d_train.title.apply(am.getWords,args=(False,False))"
     ],
     "language": "python",
     "metadata": {},
     "outputs": []
    },
    {
     "cell_type": "code",
     "collapsed": false,
     "input": [
      "dirty_title_set.to_pickle(\"data/train_dirty_title_set.pkl\")"
     ],
     "language": "python",
     "metadata": {},
     "outputs": []
    },
    {
     "cell_type": "code",
     "collapsed": false,
     "input": [
      "dirty_title_list = pd.Series([title_word for title_list in dirty_title_set for title_word in title_list]).drop_duplicates()"
     ],
     "language": "python",
     "metadata": {},
     "outputs": []
    },
    {
     "cell_type": "code",
     "collapsed": false,
     "input": [
      "dirty_title_list.to_pickle(\"data/train_dirty_titles.pkl\")"
     ],
     "language": "python",
     "metadata": {},
     "outputs": []
    },
    {
     "cell_type": "code",
     "collapsed": false,
     "input": [
      "clean_title_set = d_train.title.apply(am.getWords,args=(True,True))"
     ],
     "language": "python",
     "metadata": {},
     "outputs": []
    },
    {
     "cell_type": "code",
     "collapsed": false,
     "input": [
      "clean_title_set.to_pickle(\"data/train_clean_title_set.pkl\")"
     ],
     "language": "python",
     "metadata": {},
     "outputs": []
    },
    {
     "cell_type": "code",
     "collapsed": false,
     "input": [
      "clean_title_list = pd.Series([title_word for title_list in clean_title_set for title_word in title_list]).drop_duplicates()"
     ],
     "language": "python",
     "metadata": {},
     "outputs": []
    },
    {
     "cell_type": "code",
     "collapsed": false,
     "input": [
      "clean_title_list.to_pickle(\"data/train_clean_titles.pkl\")"
     ],
     "language": "python",
     "metadata": {},
     "outputs": []
    },
    {
     "cell_type": "heading",
     "level": 2,
     "metadata": {},
     "source": [
      "TESTING SET"
     ]
    },
    {
     "cell_type": "code",
     "collapsed": false,
     "input": [
      "d_test = pd.read_pickle(\"data/avito_test_utf8.pkl\")"
     ],
     "language": "python",
     "metadata": {},
     "outputs": []
    },
    {
     "cell_type": "code",
     "collapsed": false,
     "input": [
      "dirty_word_set = d_test.description.apply(am.getWords,args=(False,False))"
     ],
     "language": "python",
     "metadata": {},
     "outputs": []
    },
    {
     "cell_type": "code",
     "collapsed": false,
     "input": [
      "dirty_word_set.to_pickle(\"data/test_dirty_word_set.pkl\")"
     ],
     "language": "python",
     "metadata": {},
     "outputs": []
    },
    {
     "cell_type": "code",
     "collapsed": false,
     "input": [
      "dirty_word_list = pd.Series([desc_word for desc_list in dirty_word_set for desc_word in desc_list]).drop_duplicates()"
     ],
     "language": "python",
     "metadata": {},
     "outputs": []
    },
    {
     "cell_type": "code",
     "collapsed": false,
     "input": [
      "dirty_word_list.to_pickle(\"data/test_dirty_words.pkl\")"
     ],
     "language": "python",
     "metadata": {},
     "outputs": []
    },
    {
     "cell_type": "code",
     "collapsed": false,
     "input": [
      "clean_word_set = d_test.description.apply(am.getWords,args=(True,True))"
     ],
     "language": "python",
     "metadata": {},
     "outputs": []
    },
    {
     "cell_type": "code",
     "collapsed": false,
     "input": [
      "clean_word_set.to_pickle(\"data/test_clean_word_set.pkl\")"
     ],
     "language": "python",
     "metadata": {},
     "outputs": []
    },
    {
     "cell_type": "code",
     "collapsed": false,
     "input": [
      "clean_word_list = pd.Series([desc_word for desc_list in clean_word_set for desc_word in desc_list]).drop_duplicates()"
     ],
     "language": "python",
     "metadata": {},
     "outputs": []
    },
    {
     "cell_type": "code",
     "collapsed": false,
     "input": [
      "clean_word_list.to_pickle(\"data/test_clean_words.pkl\")"
     ],
     "language": "python",
     "metadata": {},
     "outputs": []
    },
    {
     "cell_type": "code",
     "collapsed": false,
     "input": [
      "dirty_title_set = d_test.title.apply(am.getWords,args=(False,False))"
     ],
     "language": "python",
     "metadata": {},
     "outputs": []
    },
    {
     "cell_type": "code",
     "collapsed": false,
     "input": [
      "dirty_title_set.to_pickle(\"data/test_dirty_title_set.pkl\")"
     ],
     "language": "python",
     "metadata": {},
     "outputs": []
    },
    {
     "cell_type": "code",
     "collapsed": false,
     "input": [
      "dirty_title_list = pd.Series([title_word for title_list in dirty_title_set for title_word in title_list]).drop_duplicates()"
     ],
     "language": "python",
     "metadata": {},
     "outputs": []
    },
    {
     "cell_type": "code",
     "collapsed": false,
     "input": [
      "dirty_title_list.to_pickle(\"data/test_dirty_titles.pkl\")"
     ],
     "language": "python",
     "metadata": {},
     "outputs": []
    },
    {
     "cell_type": "code",
     "collapsed": false,
     "input": [
      "clean_title_set = d_test.title.apply(am.getWords,args=(True,True))"
     ],
     "language": "python",
     "metadata": {},
     "outputs": []
    },
    {
     "cell_type": "code",
     "collapsed": false,
     "input": [
      "clean_title_set.to_pickle(\"data/test_clean_title_set.pkl\")"
     ],
     "language": "python",
     "metadata": {},
     "outputs": []
    },
    {
     "cell_type": "code",
     "collapsed": false,
     "input": [
      "clean_title_list = pd.Series([title_word for title_list in clean_title_set for title_word in title_list]).drop_duplicates()"
     ],
     "language": "python",
     "metadata": {},
     "outputs": []
    },
    {
     "cell_type": "code",
     "collapsed": false,
     "input": [
      "clean_title_list.to_pickle(\"data/test_clean_titles.pkl\")"
     ],
     "language": "python",
     "metadata": {},
     "outputs": []
    }
   ],
   "metadata": {}
  }
 ]
}