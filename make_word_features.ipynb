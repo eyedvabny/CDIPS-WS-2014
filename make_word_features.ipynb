{
 "metadata": {
  "name": "",
  "signature": "sha256:8046312af77f2a2005285196ad98ccdf6a6ed416255f2962d5703bcd2b1f832f"
 },
 "nbformat": 3,
 "nbformat_minor": 0,
 "worksheets": [
  {
   "cells": [
    {
     "cell_type": "code",
     "collapsed": false,
     "input": [
      "import numpy as np\n",
      "import pandas as pd\n",
      "import avito_modules as am"
     ],
     "language": "python",
     "metadata": {},
     "outputs": [],
     "prompt_number": 35
    },
    {
     "cell_type": "heading",
     "level": 3,
     "metadata": {},
     "source": [
      "File Reading"
     ]
    },
    {
     "cell_type": "code",
     "collapsed": false,
     "input": [
      "d_train = pd.read_pickle(\"data/avito_train_utf8.pkl\")"
     ],
     "language": "python",
     "metadata": {},
     "outputs": [],
     "prompt_number": 3
    },
    {
     "cell_type": "heading",
     "level": 3,
     "metadata": {},
     "source": [
      "Word Parsing + Cleaning"
     ]
    },
    {
     "cell_type": "markdown",
     "metadata": {},
     "source": [
      "Split descriptions into words and make one long Series"
     ]
    },
    {
     "cell_type": "code",
     "collapsed": false,
     "input": [
      "dirty_word_set = d_train.description.apply(am.getWords,args=(False,False))"
     ],
     "language": "python",
     "metadata": {},
     "outputs": [],
     "prompt_number": 5
    },
    {
     "cell_type": "code",
     "collapsed": false,
     "input": [
      "dirty_word_set.to_pickle(\"data/train_dirty_word_set.pkl\")"
     ],
     "language": "python",
     "metadata": {},
     "outputs": [],
     "prompt_number": 6
    },
    {
     "cell_type": "markdown",
     "metadata": {},
     "source": [
      "We need to get a list of unique words. For that all lists in the series should be joined and filtered."
     ]
    },
    {
     "cell_type": "code",
     "collapsed": false,
     "input": [
      "dirty_word_list = pd.Series([desc_word for desc_list in dirty_word_set for desc_word in desc_list]).drop_duplicates()"
     ],
     "language": "python",
     "metadata": {},
     "outputs": [],
     "prompt_number": 23
    },
    {
     "cell_type": "code",
     "collapsed": false,
     "input": [
      "len(dirty_word_list)"
     ],
     "language": "python",
     "metadata": {},
     "outputs": [
      {
       "metadata": {},
       "output_type": "pyout",
       "prompt_number": 25,
       "text": [
        "1030619"
       ]
      }
     ],
     "prompt_number": 25
    },
    {
     "cell_type": "markdown",
     "metadata": {},
     "source": [
      "So now we have a list of unique words in all the descriptions. Saving so not to reconstruct."
     ]
    },
    {
     "cell_type": "code",
     "collapsed": false,
     "input": [
      "dirty_word_list.to_pickle(\"data/train_dirty_words.pkl\")"
     ],
     "language": "python",
     "metadata": {},
     "outputs": [],
     "prompt_number": 26
    },
    {
     "cell_type": "markdown",
     "metadata": {},
     "source": [
      "Let's also count the number of words in each ad"
     ]
    },
    {
     "cell_type": "code",
     "collapsed": false,
     "input": [
      "num_dirty_words = dirty_word_set.apply(len)"
     ],
     "language": "python",
     "metadata": {},
     "outputs": [],
     "prompt_number": 27
    },
    {
     "cell_type": "markdown",
     "metadata": {},
     "source": [
      "Repeat the above but now cleaning and stemming the words"
     ]
    },
    {
     "cell_type": "code",
     "collapsed": false,
     "input": [
      "clean_word_set = d_train.description.apply(am.getWords,args=(True,True))"
     ],
     "language": "python",
     "metadata": {},
     "outputs": [],
     "prompt_number": 28
    },
    {
     "cell_type": "code",
     "collapsed": false,
     "input": [
      "clean_word_set.to_pickle(\"data/train_clean_word_set.pkl\")"
     ],
     "language": "python",
     "metadata": {},
     "outputs": [],
     "prompt_number": 30
    },
    {
     "cell_type": "code",
     "collapsed": false,
     "input": [
      "clean_word_list = pd.Series([desc_word for desc_list in clean_word_set for desc_word in desc_list]).drop_duplicates()"
     ],
     "language": "python",
     "metadata": {},
     "outputs": [],
     "prompt_number": 31
    },
    {
     "cell_type": "code",
     "collapsed": false,
     "input": [
      "len(clean_word_list)"
     ],
     "language": "python",
     "metadata": {},
     "outputs": [
      {
       "metadata": {},
       "output_type": "pyout",
       "prompt_number": 32,
       "text": [
        "497320"
       ]
      }
     ],
     "prompt_number": 32
    },
    {
     "cell_type": "code",
     "collapsed": false,
     "input": [
      "clean_word_list.to_pickle(\"data/train_clean_words.pkl\")"
     ],
     "language": "python",
     "metadata": {},
     "outputs": [],
     "prompt_number": 33
    },
    {
     "cell_type": "code",
     "collapsed": false,
     "input": [
      "num_clean_words = clean_word_set.apply(len)"
     ],
     "language": "python",
     "metadata": {},
     "outputs": [],
     "prompt_number": 34
    }
   ],
   "metadata": {}
  }
 ]
}