{
 "metadata": {
  "name": "",
  "signature": "sha256:77fa0385339b216fe07f35722b25a1c81df74c7aa4daff55db9a11b3896470e0"
 },
 "nbformat": 3,
 "nbformat_minor": 0,
 "worksheets": [
  {
   "cells": [
    {
     "cell_type": "code",
     "collapsed": false,
     "input": [
      "import pandas as pd"
     ],
     "language": "python",
     "metadata": {},
     "outputs": []
    },
    {
     "cell_type": "code",
     "collapsed": false,
     "input": [
      "train_title_set = pd.read_pickle(\"data/train_dirty_title_set.pkl\")\n",
      "train_desc_set = pd.read_pickle(\"data/train_dirty_word_set.pkl\")\n",
      "train_word_set = pd.concat([train_desc_set,train_title_set],axis=1).apply(lambda x: [item for sublist in x for item in sublist],axis=1)\n",
      "del(train_title_set,train_desc_set)"
     ],
     "language": "python",
     "metadata": {},
     "outputs": []
    },
    {
     "cell_type": "code",
     "collapsed": false,
     "input": [
      "train_set = pd.read_pickle(\"data/avito_train_utf8.pkl\")\n",
      "train_set.drop([\"title\",\"description\",\"attrs\",\"price\",\"phones_cnt\",\"emails_cnt\",\"urls_cnt\",\"close_hours\"],inplace=True,axis=1)"
     ],
     "language": "python",
     "metadata": {},
     "outputs": []
    },
    {
     "cell_type": "code",
     "collapsed": false,
     "input": [
      "train_set['words'] = train_word_set\n",
      "del(train_word_set)"
     ],
     "language": "python",
     "metadata": {},
     "outputs": []
    },
    {
     "cell_type": "code",
     "collapsed": false,
     "input": [
      "train_set.to_pickle(\"data/train_dirty.pkl\")\n",
      "del(train_set)"
     ],
     "language": "python",
     "metadata": {},
     "outputs": []
    },
    {
     "cell_type": "code",
     "collapsed": false,
     "input": [
      "test_title_set = pd.read_pickle(\"data/test_dirty_title_set.pkl\")\n",
      "test_desc_set = pd.read_pickle(\"data/test_dirty_word_set.pkl\")\n",
      "test_word_set = pd.concat([test_desc_set,test_title_set],axis=1).apply(lambda x: [item for sublist in x for item in sublist],axis=1)\n",
      "del(test_title_set,test_desc_set)"
     ],
     "language": "python",
     "metadata": {},
     "outputs": []
    },
    {
     "cell_type": "code",
     "collapsed": false,
     "input": [
      "test_set = pd.read_pickle(\"data/avito_test_utf8.pkl\")\n",
      "test_set.drop([\"title\",\"description\",\"attrs\",\"price\",\"phones_cnt\",\"emails_cnt\",\"urls_cnt\"],inplace=True,axis=1)"
     ],
     "language": "python",
     "metadata": {},
     "outputs": []
    },
    {
     "cell_type": "code",
     "collapsed": false,
     "input": [
      "test_set['words'] = test_word_set\n",
      "del(test_word_set)"
     ],
     "language": "python",
     "metadata": {},
     "outputs": []
    },
    {
     "cell_type": "code",
     "collapsed": false,
     "input": [
      "test_set.to_pickle(\"data/test_dirty.pkl\")\n",
      "del(test_set)"
     ],
     "language": "python",
     "metadata": {},
     "outputs": []
    }
   ],
   "metadata": {}
  }
 ]
}