{
 "metadata": {
  "name": "",
  "signature": "sha256:2aea3f0bf643baab3e8bc9090559bea2452ced82c01a555791f33c6a13b6597d"
 },
 "nbformat": 3,
 "nbformat_minor": 0,
 "worksheets": [
  {
   "cells": [
    {
     "cell_type": "code",
     "collapsed": false,
     "input": [
      "import numpy as np\n",
      "import scipy.sparse as sp\n",
      "import pandas as pd\n",
      "from sklearn.feature_extraction.text import TfidfVectorizer\n",
      "from sklearn.linear_model import SGDClassifier"
     ],
     "language": "python",
     "metadata": {},
     "outputs": []
    },
    {
     "cell_type": "heading",
     "level": 3,
     "metadata": {},
     "source": [
      "Load in the training and testing sets"
     ]
    },
    {
     "cell_type": "code",
     "collapsed": false,
     "input": [
      "train_set = pd.read_pickle(\"data/train_clean.pkl\")"
     ],
     "language": "python",
     "metadata": {},
     "outputs": []
    },
    {
     "cell_type": "code",
     "collapsed": false,
     "input": [
      "test_set = pd.read_pickle(\"data/test_clean.pkl\")"
     ],
     "language": "python",
     "metadata": {},
     "outputs": []
    },
    {
     "cell_type": "code",
     "collapsed": false,
     "input": [
      "train_grouped = train_set.groupby(\"subcategory\")"
     ],
     "language": "python",
     "metadata": {},
     "outputs": []
    },
    {
     "cell_type": "code",
     "collapsed": false,
     "input": [
      "test_grouped = test_set.groupby(\"subcategory\")"
     ],
     "language": "python",
     "metadata": {},
     "outputs": []
    },
    {
     "cell_type": "heading",
     "level": 3,
     "metadata": {},
     "source": [
      "Fit all the subgroups individually"
     ]
    },
    {
     "cell_type": "markdown",
     "metadata": {},
     "source": [
      "We need a special function so word lists are properly tokenized without processing"
     ]
    },
    {
     "cell_type": "code",
     "collapsed": false,
     "input": [
      "def do_nothing(word_list):\n",
      "    for word in word_list:\n",
      "        yield word"
     ],
     "language": "python",
     "metadata": {},
     "outputs": []
    },
    {
     "cell_type": "markdown",
     "metadata": {},
     "source": [
      "Apply the following to all subcategories to get back predictions for test ads in those categories"
     ]
    },
    {
     "cell_type": "code",
     "collapsed": false,
     "input": [
      "def get_predict(test_group):\n",
      "    # Extract the training group\n",
      "    train_group = train_grouped.get_group(test_group.name)\n",
      "    # Create a vectorizer for a particular group\n",
      "    vect = TfidfVectorizer(analyzer=do_nothing)\n",
      "    # Train the vectorizer on the training data\n",
      "    trainFeat = vect.fit_transform(train_group.words)\n",
      "    # Transform the testing data\n",
      "    testFeat = vect.transform(test_group.words)\n",
      "    # Create a classifier for the category\n",
      "    cfr = SGDClassifier(loss=\"log\", penalty=\"l2\", alpha=1e-4, class_weight=\"auto\",shuffle=True)\n",
      "    # Fit to training data\n",
      "    cfr.fit(trainFeat,train_group.is_blocked)\n",
      "    # Classify the testing data\n",
      "    return pd.DataFrame({\"itemid\":test_group.itemid,\"pred\":cfr.predict_proba(testFeat).T[1]})"
     ],
     "language": "python",
     "metadata": {},
     "outputs": []
    },
    {
     "cell_type": "code",
     "collapsed": false,
     "input": [
      "preds = test_grouped.apply(get_predict)"
     ],
     "language": "python",
     "metadata": {},
     "outputs": []
    },
    {
     "cell_type": "code",
     "collapsed": false,
     "input": [
      "sorted_preds = preds.sort('pred',ascending=False)"
     ],
     "language": "python",
     "metadata": {},
     "outputs": []
    },
    {
     "cell_type": "code",
     "collapsed": false,
     "input": [
      "sorted_preds.itemid.to_csv(\"results/ey_subcat_clean_tfidf.csv\", sep=\" \", index=False, header=['id'])"
     ],
     "language": "python",
     "metadata": {},
     "outputs": []
    },
    {
     "cell_type": "heading",
     "level": 3,
     "metadata": {},
     "source": [
      "Get the best features from the subcategories"
     ]
    },
    {
     "cell_type": "code",
     "collapsed": false,
     "input": [
      "def get_best_feat(train_group):\n",
      "    # Create a vectorizer for a particular group\n",
      "    vect = TfidfVectorizer(analyzer=do_nothing)\n",
      "    # Train the vectorizer on the training data\n",
      "    trainFeat = vect.fit_transform(train_group.words)\n",
      "    # Create a classifier for the category\n",
      "    cfr = SGDClassifier(loss=\"log\", penalty=\"l2\", alpha=1e-4, class_weight=\"auto\",shuffle=True)\n",
      "    # Fit to training data\n",
      "    cfr.fit(trainFeat,train_group.is_blocked)\n",
      "    # Classify the testing data\n",
      "    return pd.DataFrame({\"feat\":vect.get_feature_names(),\"coef\":cfr.coef_[0]})"
     ],
     "language": "python",
     "metadata": {},
     "outputs": []
    },
    {
     "cell_type": "code",
     "collapsed": false,
     "input": [
      "best_feats = train_grouped.apply(get_best_feat)"
     ],
     "language": "python",
     "metadata": {},
     "outputs": []
    },
    {
     "cell_type": "code",
     "collapsed": false,
     "input": [
      "best_feats = best_feats.sort([\"cat\",\"coef\"],ascending=[True,False]).groupby(level=0)"
     ],
     "language": "python",
     "metadata": {},
     "outputs": []
    },
    {
     "cell_type": "code",
     "collapsed": false,
     "input": [
      "best_and_worst = pd.merge(best_feats.first(),best_feats.last(),left_index=True,right_index=True)"
     ],
     "language": "python",
     "metadata": {},
     "outputs": []
    },
    {
     "cell_type": "code",
     "collapsed": false,
     "input": [
      "best_and_worst.to_csv(\"data/best_and_worst_clean_feats.csv\",encoding=\"utf-8\")"
     ],
     "language": "python",
     "metadata": {},
     "outputs": []
    },
    {
     "cell_type": "heading",
     "level": 3,
     "metadata": {},
     "source": [
      "Run the test on the whole dataset"
     ]
    },
    {
     "cell_type": "code",
     "collapsed": false,
     "input": [
      "tot_best_feats = get_best_feat(train_set)"
     ],
     "language": "python",
     "metadata": {},
     "outputs": []
    },
    {
     "cell_type": "code",
     "collapsed": false,
     "input": [
      "tot_best_feats.sort(\"coef\",ascending=False,inplace=True)"
     ],
     "language": "python",
     "metadata": {},
     "outputs": []
    },
    {
     "cell_type": "code",
     "collapsed": false,
     "input": [
      "tot_best_feats.to_csv(\"data/best_dirty_feat.csv\",encoding=\"utf-8\",index=False)"
     ],
     "language": "python",
     "metadata": {},
     "outputs": []
    }
   ],
   "metadata": {}
  }
 ]
}