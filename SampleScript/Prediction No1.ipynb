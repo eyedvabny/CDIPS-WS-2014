{
 "metadata": {
  "name": "",
  "signature": "sha256:337cdf58933254cbb53ebd31f081fef11d5a844225f38900c7e169906033bccf"
 },
 "nbformat": 3,
 "nbformat_minor": 0,
 "worksheets": [
  {
   "cells": [
    {
     "cell_type": "heading",
     "level": 2,
     "metadata": {},
     "source": [
      "Prediction based on categories"
     ]
    },
    {
     "cell_type": "markdown",
     "metadata": {},
     "source": [
      "The modified version of the sample script dumps all necessary train and test variables all separated by categories. In this workbook, I just test how do they perform.\n",
      "\n",
      "Size of training set: **4 million**<br \\>\n",
      "Size of test set: **1.3 million**<br \\>\n",
      "Number of randomly selected items for training: **600k**<br \\>\n",
      "Stemming: **False**<br \\>\n",
      "Correcting words: **False**<br \\>\n",
      "\n",
      "**Method:**\n",
      "Without any further cleaning or processing, just using the textual parameters, with the provided method, performing the prediction."
     ]
    },
    {
     "cell_type": "code",
     "collapsed": false,
     "input": [
      "# coding: utf-8\n",
      "\n",
      "# Standard libraries (not all used):\n",
      "import pandas as pd\n",
      "import datetime\n",
      "import numpy as np\n",
      "import scipy.sparse as sp\n",
      "\n",
      "# Machine learning libraries (not all used):\n",
      "from sklearn.externals import joblib\n",
      "from sklearn.linear_model import SGDClassifier\n",
      "from sklearn.externals import joblib\n",
      "from sklearn.metrics import roc_auc_score\n",
      "\n",
      "# Plotting lib:\n",
      "import matplotlib.pyplot as plt\n",
      "%matplotlib inline\n"
     ],
     "language": "python",
     "metadata": {},
     "outputs": [],
     "prompt_number": 21
    },
    {
     "cell_type": "markdown",
     "metadata": {},
     "source": [
      "Loading dataset from the dumped files:"
     ]
    },
    {
     "cell_type": "code",
     "collapsed": false,
     "input": [
      "# Reading dataset (sparse matrices saved by the sample script)\n",
      "trainFeatures,trainTargets,trainItemIds,trainPrices,trainUrls,trainPhones,trainEmails,trainLength,\\\n",
      "    testFeatures, testItemIds,testPrices,testUrls,testPhones,testEmails,testLength= joblib.load(\"SeparatedByCategory.pkl\")\n",
      "\n",
      "# let's get an idea how do they look like:\n",
      "print \"Number of categories: %d\"%(len(trainFeatures))"
     ],
     "language": "python",
     "metadata": {},
     "outputs": [
      {
       "output_type": "stream",
       "stream": "stdout",
       "text": [
        "Number of categories: 10\n"
       ]
      }
     ],
     "prompt_number": 59
    },
    {
     "cell_type": "markdown",
     "metadata": {},
     "source": [
      "So, the variables were loaded successfully."
     ]
    },
    {
     "cell_type": "heading",
     "level": 3,
     "metadata": {},
     "source": [
      "Initializing clf model, training and fit"
     ]
    },
    {
     "cell_type": "code",
     "collapsed": false,
     "input": [
      "# Initializing a gradient model for each category:\n",
      "clf = {}\n",
      "predicted_scores = {}\n",
      "\n",
      "for cat in trainFeatures.keys():\n",
      "\n",
      "    # Stochastic gradient model\n",
      "    clf[cat] = SGDClassifier(loss=\"log\", \n",
      "                        penalty=\"l2\", \n",
      "                        alpha=1e-4, \n",
      "                        class_weight=\"auto\")\n",
      "    # fitting model\n",
      "    clf[cat].fit(trainFeatures[cat],trainTargets[cat])\n",
      "    \n",
      "    # predicting:\n",
      "    predicted_scores[cat] = clf[cat].predict_proba(testFeatures[cat]).T[1]"
     ],
     "language": "python",
     "metadata": {},
     "outputs": [],
     "prompt_number": 25
    },
    {
     "cell_type": "heading",
     "level": 3,
     "metadata": {},
     "source": [
      "Pooling prediction from different categories together and save in a list"
     ]
    },
    {
     "cell_type": "code",
     "collapsed": false,
     "input": [
      "# Temporary storage of data in a list - putting directly into dataframe is really slow...\n",
      "temp = []\n",
      "for cat in trainFeatures.keys():\n",
      "    for IDs, score in zip(testItemIds[cat], predicted_scores[cat]):\n",
      "        temp.append((IDs, score))\n",
      "\n",
      "# Pooling output into a single pandas dataframe:\n",
      "df = pd.DataFrame(temp, columns=[\"ID\",\"Score\"])\n",
      "\n",
      "# sorting dataframe accorging to the score:\n",
      "df.sort(\"Score\", ascending=False, inplace=True)\n",
      "\n",
      "# only the ID column is saved in the csv file with header and without separator\n",
      "df.ID.to_csv(\"Trial_No1.csv\", sep=\" \", index=False, header=True)\n",
      "df[:12]"
     ],
     "language": "python",
     "metadata": {},
     "outputs": [],
     "prompt_number": 37
    }
   ],
   "metadata": {}
  }
 ]
}